{
 "cells": [
  {
   "cell_type": "code",
   "execution_count": 1,
   "metadata": {
    "collapsed": true
   },
   "outputs": [],
   "source": [
    "%matplotlib inline"
   ]
  },
  {
   "cell_type": "code",
   "execution_count": 2,
   "metadata": {},
   "outputs": [
    {
     "name": "stderr",
     "output_type": "stream",
     "text": [
      "Using TensorFlow backend.\n"
     ]
    }
   ],
   "source": [
    "from keras.models import Sequential\n",
    "from keras.layers import Dense\n",
    "from keras.callbacks import EarlyStopping\n",
    "from keras.callbacks import ModelCheckpoint"
   ]
  },
  {
   "cell_type": "code",
   "execution_count": 3,
   "metadata": {},
   "outputs": [
    {
     "name": "stderr",
     "output_type": "stream",
     "text": [
      "/anaconda3/envs/kaggle/lib/python3.6/site-packages/lightgbm/__init__.py:46: UserWarning: Starting from version 2.2.1, the library file in distribution wheels for macOS is built by the Apple Clang (Xcode_9.4.1) compiler.\n",
      "This means that in case of installing LightGBM from PyPI via the ``pip install lightgbm`` command, you don't need to install the gcc compiler anymore.\n",
      "Instead of that, you need to install the OpenMP library, which is required for running LightGBM on the system with the Apple Clang compiler.\n",
      "You can install the OpenMP library by the following command: ``brew install libomp``.\n",
      "  \"You can install the OpenMP library by the following command: ``brew install libomp``.\", UserWarning)\n"
     ]
    }
   ],
   "source": [
    "import load as ld\n",
    "import preprocessing as pp\n",
    "import training as tr\n",
    "\n",
    "import warnings\n",
    "warnings.filterwarnings('ignore')"
   ]
  },
  {
   "cell_type": "code",
   "execution_count": 4,
   "metadata": {
    "collapsed": true
   },
   "outputs": [],
   "source": [
    "debug_size = 0\n",
    "silent = True\n",
    "verbose = 200\n",
    "early_stopping_rounds = 200"
   ]
  },
  {
   "cell_type": "code",
   "execution_count": 5,
   "metadata": {
    "collapsed": true
   },
   "outputs": [],
   "source": [
    "def get_datasets(debug_size, silent, treat_duplicated = True):\n",
    "    train, test = ld.get_processed_files(debug_size, silent)\n",
    "    features = [f for f in train.columns if f not in ['target', 'card_id', 'index', 'first_active_month']]\n",
    "    \n",
    "    train_y = train['target']\n",
    "    train_X = train.loc[:, features]\n",
    "\n",
    "    ids = test['card_id']\n",
    "    test_X = test.loc[:, features]\n",
    "    \n",
    "    return train_X, train_y, test_X, ids"
   ]
  },
  {
   "cell_type": "code",
   "execution_count": 6,
   "metadata": {},
   "outputs": [
    {
     "name": "stdout",
     "output_type": "stream",
     "text": [
      "Process train and test - Start!\n",
      "Process train and test - Done in 2s\n",
      "\n",
      "CPU times: user 1.98 s, sys: 100 ms, total: 2.08 s\n",
      "Wall time: 2.08 s\n"
     ]
    }
   ],
   "source": [
    "%%time\n",
    "train_X, train_y, test_X, ids = get_datasets(debug_size = debug_size, silent = silent)\n",
    "features = train_X.columns.tolist()"
   ]
  },
  {
   "cell_type": "code",
   "execution_count": 7,
   "metadata": {
    "collapsed": true
   },
   "outputs": [],
   "source": [
    "features = train_X.columns.tolist()"
   ]
  },
  {
   "cell_type": "code",
   "execution_count": 8,
   "metadata": {},
   "outputs": [],
   "source": [
    "# Booster params\n",
    "lgb_params = {}\n",
    "lgb_params['n_estimators'] = 10000\n",
    "lgb_params['learning_rate'] = 0.005\n",
    "lgb_params['metric'] = 'rmse'\n",
    "lgb_params['objective'] = 'regression'\n",
    "\n",
    "# Fitting params\n",
    "lgb_fit_params = {}\n",
    "lgb_fit_params['verbose_eval'] = verbose\n",
    "lgb_fit_params['early_stopping_rounds'] = early_stopping_rounds\n",
    "lgb_fit_params['valid_sets'] = {}\n",
    "lgb_fit_params['valid_names'] = [\"validation\"]"
   ]
  },
  {
   "cell_type": "code",
   "execution_count": 9,
   "metadata": {},
   "outputs": [],
   "source": [
    "lgbm = tr.LightGBMRegressorWrapper(params = lgb_params, name = \"lgbm\")"
   ]
  },
  {
   "cell_type": "code",
   "execution_count": 10,
   "metadata": {},
   "outputs": [],
   "source": [
    "oof_lgbm = tr.OOFRegressor(regressor = lgbm, nfolds = 5, stratified = False)"
   ]
  },
  {
   "cell_type": "code",
   "execution_count": 11,
   "metadata": {},
   "outputs": [
    {
     "name": "stdout",
     "output_type": "stream",
     "text": [
      "Training until validation scores don't improve for 200 rounds.\n",
      "[200]\tvalidation's rmse: 3.80494\n",
      "[400]\tvalidation's rmse: 3.80478\n",
      "Early stopping, best iteration is:\n",
      "[288]\tvalidation's rmse: 3.80464\n",
      "Fold  1 RMSE : 3.804640\n",
      "Training until validation scores don't improve for 200 rounds.\n",
      "[200]\tvalidation's rmse: 3.83575\n",
      "[400]\tvalidation's rmse: 3.83503\n",
      "[600]\tvalidation's rmse: 3.83515\n",
      "Early stopping, best iteration is:\n",
      "[455]\tvalidation's rmse: 3.83502\n",
      "Fold  2 RMSE : 3.835020\n",
      "Training until validation scores don't improve for 200 rounds.\n",
      "[200]\tvalidation's rmse: 3.91665\n",
      "[400]\tvalidation's rmse: 3.91553\n",
      "[600]\tvalidation's rmse: 3.9157\n",
      "Early stopping, best iteration is:\n",
      "[428]\tvalidation's rmse: 3.9155\n",
      "Fold  3 RMSE : 3.915497\n",
      "Training until validation scores don't improve for 200 rounds.\n",
      "[200]\tvalidation's rmse: 3.89375\n",
      "[400]\tvalidation's rmse: 3.89288\n",
      "[600]\tvalidation's rmse: 3.89302\n",
      "Early stopping, best iteration is:\n",
      "[415]\tvalidation's rmse: 3.89288\n",
      "Fold  4 RMSE : 3.892878\n",
      "Training until validation scores don't improve for 200 rounds.\n",
      "[200]\tvalidation's rmse: 3.76093\n",
      "[400]\tvalidation's rmse: 3.76075\n",
      "Early stopping, best iteration is:\n",
      "[337]\tvalidation's rmse: 3.76071\n",
      "Fold  5 RMSE : 3.760708\n",
      "Full RMSE score 3.842166\n"
     ]
    },
    {
     "data": {
      "text/plain": [
       "OOFRegressor(nfolds=5,\n",
       "       regressor=LightGBMRegressorWrapper(name='lgbm',\n",
       "             params={'n_estimators': 10000, 'learning_rate': 0.005, 'metric': 'rmse', 'objective': 'regression'}),\n",
       "       stratified=False, weights='same')"
      ]
     },
     "execution_count": 11,
     "metadata": {},
     "output_type": "execute_result"
    }
   ],
   "source": [
    "oof_lgbm.fit(train_X.loc[:, features], train_y, **lgb_fit_params)"
   ]
  },
  {
   "cell_type": "code",
   "execution_count": 12,
   "metadata": {},
   "outputs": [
    {
     "data": {
      "image/png": "[encoded data removed]",
      "text/plain": [
       "<matplotlib.figure.Figure at 0x1221d7b00>"
      ]
     },
     "metadata": {},
     "output_type": "display_data"
    }
   ],
   "source": [
    "tr.display_importances(oof_lgbm.importances_)"
   ]
  },
  {
   "cell_type": "code",
   "execution_count": null,
   "metadata": {},
   "outputs": [],
   "source": [
    "# BOOSTER PARAMS\n",
    "xgb_params = dict()\n",
    "xgb_params[\"booster\"] = \"gbtree\"\n",
    "xgb_params[\"objective\"] = \"reg:linear\"\n",
    "#xgb_params[\"colsample_bytree\"] = 0.9497036\n",
    "#xgb_params[\"subsample\"] = 0.8715623\n",
    "#xgb_params[\"max_depth\"] = 8\n",
    "#xgb_params['reg_alpha'] = 0.041545473\n",
    "#xgb_params['reg_lambda'] = 0.0735294\n",
    "xgb_params[\"learning_rate\"] = 0.005\n",
    "#xgb_params[\"min_child_weight\"] = 39.3259775\n",
    "xgb_params['eval_metric'] = 'rmse'\n",
    "xgb_params['silent'] = 1\n",
    "\n",
    "# FITTING PARAMS\n",
    "xgb_fit_params = {}\n",
    "xgb_fit_params['verbose_eval'] = verbose\n",
    "xgb_fit_params['early_stopping_rounds'] = early_stopping_rounds\n",
    "xgb_fit_params['evals'] = {}\n",
    "xgb_fit_params['num_boost_round'] = 10000"
   ]
  },
  {
   "cell_type": "code",
   "execution_count": null,
   "metadata": {
    "collapsed": true
   },
   "outputs": [],
   "source": [
    "xgb = tr.XgbRegressorWrapper(params = xgb_params, name = \"xgboost\")"
   ]
  },
  {
   "cell_type": "code",
   "execution_count": null,
   "metadata": {
    "collapsed": true
   },
   "outputs": [],
   "source": [
    "oof_xgb = tr.OOFRegressor(regressor = xgb, nfolds = 5, stratified = False)"
   ]
  },
  {
   "cell_type": "code",
   "execution_count": null,
   "metadata": {},
   "outputs": [],
   "source": [
    "oof_xgb.fit(train_X.loc[:, features], train_y, **xgb_fit_params)"
   ]
  },
  {
   "cell_type": "code",
   "execution_count": null,
   "metadata": {},
   "outputs": [],
   "source": [
    "tr.display_importances(oof_xgb.importances_)"
   ]
  },
  {
   "cell_type": "code",
   "execution_count": 13,
   "metadata": {
    "collapsed": true
   },
   "outputs": [],
   "source": [
    "def baseline_nn(n_features = 75):\n",
    "    model = Sequential()\n",
    "    model.add(Dense(64, input_dim=n_features, init='normal', activation='sigmoid'))\n",
    "    model.add(Dense(1, init='normal'))\n",
    "    model.compile(loss='mean_squared_error', optimizer='adam', metrics=['mae'])\n",
    "    return model"
   ]
  },
  {
   "cell_type": "code",
   "execution_count": 14,
   "metadata": {
    "collapsed": true
   },
   "outputs": [],
   "source": [
    "sk_params = dict()\n",
    "sk_params[\"n_features\"] = train_X.shape[1]\n",
    "sk_params[\"batch_size\"] = 32\n",
    "sk_params[\"verbose\"] = 1"
   ]
  },
  {
   "cell_type": "code",
   "execution_count": 15,
   "metadata": {},
   "outputs": [
    {
     "name": "stdout",
     "output_type": "stream",
     "text": [
      "_________________________________________________________________\n",
      "Layer (type)                 Output Shape              Param #   \n",
      "=================================================================\n",
      "dense_1 (Dense)              (None, 64)                896       \n",
      "_________________________________________________________________\n",
      "dense_2 (Dense)              (None, 1)                 65        \n",
      "=================================================================\n",
      "Total params: 961\n",
      "Trainable params: 961\n",
      "Non-trainable params: 0\n",
      "_________________________________________________________________\n"
     ]
    }
   ],
   "source": [
    "nn_model = baseline_nn(train_X.shape[1])\n",
    "nn_model.summary()"
   ]
  },
  {
   "cell_type": "code",
   "execution_count": 16,
   "metadata": {
    "collapsed": true
   },
   "outputs": [],
   "source": [
    "early_stop_loss = EarlyStopping(monitor='val_loss', patience=15, verbose=0)\n",
    "early_stop_acc = EarlyStopping(monitor='val_acc', patience=15, verbose=0)\n",
    "checkpointer = ModelCheckpoint(filepath='saved_models/weights.best.hdf5', verbose=1, save_best_only=True)"
   ]
  },
  {
   "cell_type": "code",
   "execution_count": 18,
   "metadata": {},
   "outputs": [
    {
     "name": "stdout",
     "output_type": "stream",
     "text": [
      "Train on 181725 samples, validate on 20192 samples\n",
      "Epoch 1/10\n",
      "181725/181725 [==============================] - 1s 5us/step - loss: 14.7211 - mean_absolute_error: 1.5977 - val_loss: 15.2898 - val_mean_absolute_error: 1.6139\n",
      "\n",
      "Epoch 00001: val_loss did not improve from 15.28564\n",
      "Epoch 2/10\n",
      "181725/181725 [==============================] - 1s 5us/step - loss: 14.7264 - mean_absolute_error: 1.5977 - val_loss: 15.2867 - val_mean_absolute_error: 1.6036\n",
      "\n",
      "Epoch 00002: val_loss did not improve from 15.28564\n",
      "Epoch 3/10\n",
      "181725/181725 [==============================] - 1s 5us/step - loss: 14.7218 - mean_absolute_error: 1.5998 - val_loss: 15.2834 - val_mean_absolute_error: 1.6099\n",
      "\n",
      "Epoch 00003: val_loss improved from 15.28564 to 15.28344, saving model to saved_models/weights.best.hdf5\n",
      "Epoch 4/10\n",
      "181725/181725 [==============================] - 1s 5us/step - loss: 14.7208 - mean_absolute_error: 1.6005 - val_loss: 15.2835 - val_mean_absolute_error: 1.6065\n",
      "\n",
      "Epoch 00004: val_loss did not improve from 15.28344\n",
      "Epoch 5/10\n",
      "181725/181725 [==============================] - 1s 5us/step - loss: 14.7226 - mean_absolute_error: 1.5996 - val_loss: 15.3002 - val_mean_absolute_error: 1.6306\n",
      "\n",
      "Epoch 00005: val_loss did not improve from 15.28344\n",
      "Epoch 6/10\n",
      "181725/181725 [==============================] - 1s 5us/step - loss: 14.7209 - mean_absolute_error: 1.5996 - val_loss: 15.2844 - val_mean_absolute_error: 1.6122\n",
      "\n",
      "Epoch 00006: val_loss did not improve from 15.28344\n",
      "Epoch 7/10\n",
      "181725/181725 [==============================] - 1s 5us/step - loss: 14.7199 - mean_absolute_error: 1.5976 - val_loss: 15.2915 - val_mean_absolute_error: 1.6298\n",
      "\n",
      "Epoch 00007: val_loss did not improve from 15.28344\n",
      "Epoch 8/10\n",
      "181725/181725 [==============================] - 1s 5us/step - loss: 14.7187 - mean_absolute_error: 1.5989 - val_loss: 15.2975 - val_mean_absolute_error: 1.5861\n",
      "\n",
      "Epoch 00008: val_loss did not improve from 15.28344\n",
      "Epoch 9/10\n",
      "181725/181725 [==============================] - 1s 5us/step - loss: 14.7232 - mean_absolute_error: 1.5970 - val_loss: 15.2867 - val_mean_absolute_error: 1.6197\n",
      "\n",
      "Epoch 00009: val_loss did not improve from 15.28344\n",
      "Epoch 10/10\n",
      "181725/181725 [==============================] - 1s 5us/step - loss: 14.7216 - mean_absolute_error: 1.5971 - val_loss: 15.2867 - val_mean_absolute_error: 1.6108\n",
      "\n",
      "Epoch 00010: val_loss did not improve from 15.28344\n"
     ]
    }
   ],
   "source": [
    "hist = nn_model.fit(train_X.loc[:, features].values, train_y.values, validation_split=0.1, \n",
    "                            epochs=10, batch_size=256, callbacks=[checkpointer], verbose=1)"
   ]
  },
  {
   "cell_type": "code",
   "execution_count": 19,
   "metadata": {},
   "outputs": [],
   "source": [
    "pred = nn_model.predict(test_X.loc[:, features].values)"
   ]
  },
  {
   "cell_type": "code",
   "execution_count": 44,
   "metadata": {},
   "outputs": [
    {
     "data": {
      "text/plain": [
       "Pipeline(steps=[('scaler', RobustScaler(copy=True, quantile_range=(25.0, 75.0), with_centering=True,\n",
       "       with_scaling=True)), ('reduce_dim', VarianceThreshold(threshold=0.019600000000000017))])"
      ]
     },
     "execution_count": 44,
     "metadata": {},
     "output_type": "execute_result"
    }
   ],
   "source": [
    "from sklearn.preprocessing import RobustScaler\n",
    "from sklearn.pipeline import Pipeline\n",
    "from sklearn.feature_selection import VarianceThreshold\n",
    "\n",
    "variance_threshold = (.98 * (1 - .98))\n",
    "\n",
    "pipe_variance = Pipeline([('scaler', RobustScaler()),\n",
    "                              ('reduce_dim', VarianceThreshold(variance_threshold))])\n",
    "pipe_variance.fit(train_X, train_y)"
   ]
  },
  {
   "cell_type": "code",
   "execution_count": 45,
   "metadata": {},
   "outputs": [],
   "source": [
    "train_X_pipe = pipe_variance.transform(train_X)"
   ]
  },
  {
   "cell_type": "code",
   "execution_count": 46,
   "metadata": {
    "collapsed": true
   },
   "outputs": [],
   "source": [
    "test_X_pipe = pipe_variance.transform(test_X)"
   ]
  },
  {
   "cell_type": "code",
   "execution_count": 41,
   "metadata": {},
   "outputs": [
    {
     "name": "stdout",
     "output_type": "stream",
     "text": [
      "Train on 181725 samples, validate on 20192 samples\n",
      "Epoch 1/10\n",
      "181725/181725 [==============================] - 1s 5us/step - loss: 14.7289 - mean_absolute_error: 1.5999 - val_loss: 15.2895 - val_mean_absolute_error: 1.6160\n",
      "\n",
      "Epoch 00001: val_loss did not improve from 15.28344\n",
      "Epoch 2/10\n",
      "181725/181725 [==============================] - 1s 5us/step - loss: 14.7231 - mean_absolute_error: 1.5994 - val_loss: 15.2970 - val_mean_absolute_error: 1.6370\n",
      "\n",
      "Epoch 00002: val_loss did not improve from 15.28344\n",
      "Epoch 3/10\n",
      "181725/181725 [==============================] - 1s 5us/step - loss: 14.7232 - mean_absolute_error: 1.6001 - val_loss: 15.2956 - val_mean_absolute_error: 1.5961\n",
      "\n",
      "Epoch 00003: val_loss did not improve from 15.28344\n",
      "Epoch 4/10\n",
      "181725/181725 [==============================] - 1s 5us/step - loss: 14.7218 - mean_absolute_error: 1.6000 - val_loss: 15.2952 - val_mean_absolute_error: 1.5954\n",
      "\n",
      "Epoch 00004: val_loss did not improve from 15.28344\n",
      "Epoch 5/10\n",
      "181725/181725 [==============================] - 1s 5us/step - loss: 14.7224 - mean_absolute_error: 1.6002 - val_loss: 15.2859 - val_mean_absolute_error: 1.6136\n",
      "\n",
      "Epoch 00005: val_loss did not improve from 15.28344\n",
      "Epoch 6/10\n",
      "181725/181725 [==============================] - 1s 5us/step - loss: 14.7181 - mean_absolute_error: 1.6010 - val_loss: 15.2842 - val_mean_absolute_error: 1.6050\n",
      "\n",
      "Epoch 00006: val_loss did not improve from 15.28344\n",
      "Epoch 7/10\n",
      "181725/181725 [==============================] - 1s 5us/step - loss: 14.7149 - mean_absolute_error: 1.6005 - val_loss: 15.2882 - val_mean_absolute_error: 1.5948\n",
      "\n",
      "Epoch 00007: val_loss did not improve from 15.28344\n",
      "Epoch 8/10\n",
      "181725/181725 [==============================] - 1s 5us/step - loss: 14.7128 - mean_absolute_error: 1.6007 - val_loss: 15.2770 - val_mean_absolute_error: 1.6114\n",
      "\n",
      "Epoch 00008: val_loss improved from 15.28344 to 15.27696, saving model to saved_models/weights.best.hdf5\n",
      "Epoch 9/10\n",
      "181725/181725 [==============================] - 1s 5us/step - loss: 14.7120 - mean_absolute_error: 1.6015 - val_loss: 15.2816 - val_mean_absolute_error: 1.6375\n",
      "\n",
      "Epoch 00009: val_loss did not improve from 15.27696\n",
      "Epoch 10/10\n",
      "181725/181725 [==============================] - 1s 5us/step - loss: 14.7082 - mean_absolute_error: 1.6026 - val_loss: 15.2779 - val_mean_absolute_error: 1.6020\n",
      "\n",
      "Epoch 00010: val_loss did not improve from 15.27696\n"
     ]
    }
   ],
   "source": [
    "hist = nn_model.fit(train_X_pipe, train_y.values, validation_split=0.1, \n",
    "                            epochs=10, batch_size=256, callbacks=[checkpointer], verbose=1)"
   ]
  },
  {
   "cell_type": "code",
   "execution_count": null,
   "metadata": {
    "collapsed": true
   },
   "outputs": [],
   "source": []
  }
 ],
 "metadata": {
  "kernelspec": {
   "display_name": "Python 3",
   "language": "python",
   "name": "python3"
  },
  "language_info": {
   "codemirror_mode": {
    "name": "ipython",
    "version": 3
   },
   "file_extension": ".py",
   "mimetype": "text/x-python",
   "name": "python",
   "nbconvert_exporter": "python",
   "pygments_lexer": "ipython3",
   "version": "3.6.1"
  }
 },
 "nbformat": 4,
 "nbformat_minor": 2
}
