{
 "cells": [
  {
   "cell_type": "code",
   "execution_count": 1,
   "metadata": {},
   "outputs": [
    {
     "name": "stderr",
     "output_type": "stream",
     "text": [
      "/anaconda3/envs/kaggle/lib/python3.6/site-packages/lightgbm/__init__.py:46: UserWarning: Starting from version 2.2.1, the library file in distribution wheels for macOS is built by the Apple Clang (Xcode_9.4.1) compiler.\n",
      "This means that in case of installing LightGBM from PyPI via the ``pip install lightgbm`` command, you don't need to install the gcc compiler anymore.\n",
      "Instead of that, you need to install the OpenMP library, which is required for running LightGBM on the system with the Apple Clang compiler.\n",
      "You can install the OpenMP library by the following command: ``brew install libomp``.\n",
      "  \"You can install the OpenMP library by the following command: ``brew install libomp``.\", UserWarning)\n"
     ]
    }
   ],
   "source": [
    "import load as ld\n",
    "import preprocessing as pp\n",
    "from sklearn.model_selection import train_test_split\n",
    "from sklearn import model_selection, preprocessing, metrics\n",
    "import lightgbm as lgb\n",
    "from training import save_importances, AveragingModels, LightGBMWrapper, XgbWrapper, GenericWrapper, OOFClassifier\n",
    "import matplotlib.pyplot as plt\n",
    "import pandas as pd\n",
    "\n",
    "import warnings\n",
    "warnings.filterwarnings(action='once')"
   ]
  },
  {
   "cell_type": "code",
   "execution_count": 2,
   "metadata": {
    "collapsed": true
   },
   "outputs": [],
   "source": [
    "def get_tree_models():\n",
    "    lgb_params = {}\n",
    "    lgb_params['nthread'] = 3\n",
    "    lgb_params['n_estimators'] = 10000\n",
    "    lgb_params['learning_rate'] = 0.02\n",
    "    lgb_params['colsample_bytree'] = 0.9497036\n",
    "    lgb_params['subsample'] = 0.8715623\n",
    "    lgb_params['max_depth'] = 8\n",
    "    lgb_params[\"reg_alpha\"] = 0.041545473\n",
    "    lgb_params['reg_lambda'] = 0.0735294\n",
    "    lgb_params['min_split_gain'] = 0.0222415\n",
    "    lgb_params['min_child_weight'] = 39.3259775\n",
    "    lgb_params['num_leaves'] = 34\n",
    "    lgb_params['metric'] = 'auc'\n",
    "    \n",
    "    lgb_fit_params = {}\n",
    "    lgb_fit_params['verbose_eval'] = 100\n",
    "    lgb_fit_params['early_stopping_rounds'] = 200\n",
    "    lgb_fit_params['valid_sets'] = {}\n",
    "    lgb_fit_params['valid_names'] = [\"train\", \"validation\"]\n",
    "\n",
    "    tree_models = []   \n",
    "\n",
    "    lgbm = LightGBMWrapper(params = lgb_params, name = \"lgbm\")\n",
    "    \n",
    "    tree_models.append((lgbm, lgb_fit_params))\n",
    "        \n",
    "    return tree_models"
   ]
  },
  {
   "cell_type": "code",
   "execution_count": 3,
   "metadata": {
    "collapsed": true
   },
   "outputs": [],
   "source": [
    "def run_lgb(train_X, train_y, val_X, val_y, test_X, features = None, verbose = 50, early_stopping_rounds = 200):\n",
    "    \n",
    "    lgb_params = {}\n",
    "    lgb_params['objective'] = \"regression\"\n",
    "    lgb_params['metric'] = \"rmse\"\n",
    "    lgb_params['num_leaves'] = 35\n",
    "    lgb_params['min_child_weight'] = 50\n",
    "    lgb_params['learning_rate'] = 0.025\n",
    "    lgb_params['bagging_fraction'] = 0.75\n",
    "    lgb_params['feature_fraction'] = 0.75\n",
    "    lgb_params['bagging_frequency'] = 5\n",
    "    lgb_params['bagging_seed'] = 2018\n",
    "    lgb_params['n_estimators'] = 10000\n",
    "    lgb_params['colsample_bytree'] = 0.75\n",
    "    lgb_params['subsample'] = 0.75\n",
    "    lgb_params['max_depth'] = 8\n",
    "       \n",
    "    if features == None:\n",
    "        features = train_X.columns.tolist()\n",
    "        \n",
    "    #train_X, val_X, train_y, val_y = train_test_split(X, y, random_state = 2018)\n",
    "    \n",
    "    lgb_train = lgb.Dataset(data = train_X, label = train_y, feature_name = features)\n",
    "    lgb_val = lgb.Dataset(data = val_X, label = val_y, feature_name = features)\n",
    "    \n",
    "    lgb_booster = lgb.train(params = lgb_params, train_set = lgb_train, valid_sets = [lgb_train, lgb_val], valid_names = [\"train\", \"validation\"], \n",
    "            verbose_eval = verbose, early_stopping_rounds = early_stopping_rounds)\n",
    "    \n",
    "    predictions = lgb_booster.predict(test_X, num_iteration = lgb_booster.best_iteration)\n",
    "    \n",
    "    return lgb_booster, predictions"
   ]
  },
  {
   "cell_type": "code",
   "execution_count": 4,
   "metadata": {
    "collapsed": true
   },
   "outputs": [],
   "source": [
    "def get_datasets(debug_size, silent, treat_duplicated = True):\n",
    "    train, test = ld.get_processed_files(debug_size, silent)\n",
    "    features = [f for f in train.columns if f not in ['target', 'card_id', 'index', 'first_active_month']]\n",
    "    \n",
    "    train_y = train['target']\n",
    "    train_X = train.loc[:, features]\n",
    "\n",
    "    ids = test['card_id']\n",
    "    test_X = test.loc[:, features]\n",
    "    \n",
    "    return train_X, train_y, test_X, ids"
   ]
  },
  {
   "cell_type": "code",
   "execution_count": 5,
   "metadata": {
    "collapsed": true
   },
   "outputs": [],
   "source": [
    "debug_size = 0\n",
    "silent = False\n",
    "verbose = 100\n",
    "early_stopping_rounds = 150"
   ]
  },
  {
   "cell_type": "code",
   "execution_count": 6,
   "metadata": {},
   "outputs": [
    {
     "name": "stdout",
     "output_type": "stream",
     "text": [
      "Full Model Run - Start!\n",
      "Process train and test - Start!\n",
      "Train df shape: (201917, 15)\n",
      "Test df shape: (123623, 14)\n",
      "Process train and test - Done in 1s\n",
      "\n"
     ]
    },
    {
     "name": "stderr",
     "output_type": "stream",
     "text": [
      "/anaconda3/envs/kaggle/lib/python3.6/site-packages/lightgbm/engine.py:113: UserWarning: Found `n_estimators` in params. Will use it instead of argument\n",
      "  warnings.warn(\"Found `{}` in params. Will use it instead of argument\".format(alias))\n"
     ]
    },
    {
     "name": "stdout",
     "output_type": "stream",
     "text": [
      "Training until validation scores don't improve for 150 rounds.\n",
      "[100]\ttrain's rmse: 3.83599\tvalidation's rmse: 3.84933\n",
      "[200]\ttrain's rmse: 3.83454\tvalidation's rmse: 3.85018\n",
      "Early stopping, best iteration is:\n",
      "[72]\ttrain's rmse: 3.83695\tvalidation's rmse: 3.84918\n",
      "\n",
      "Training until validation scores don't improve for 150 rounds.\n",
      "[100]\ttrain's rmse: 3.84949\tvalidation's rmse: 3.79555\n",
      "[200]\ttrain's rmse: 3.84819\tvalidation's rmse: 3.79603\n",
      "Early stopping, best iteration is:\n",
      "[92]\ttrain's rmse: 3.84973\tvalidation's rmse: 3.79554\n",
      "\n",
      "Training until validation scores don't improve for 150 rounds.\n",
      "[100]\ttrain's rmse: 3.83844\tvalidation's rmse: 3.8411\n",
      "[200]\ttrain's rmse: 3.83705\tvalidation's rmse: 3.84123\n",
      "Early stopping, best iteration is:\n",
      "[137]\ttrain's rmse: 3.83784\tvalidation's rmse: 3.84102\n",
      "\n",
      "Training until validation scores don't improve for 150 rounds.\n",
      "[100]\ttrain's rmse: 3.84036\tvalidation's rmse: 3.83188\n",
      "[200]\ttrain's rmse: 3.83918\tvalidation's rmse: 3.83214\n",
      "Early stopping, best iteration is:\n",
      "[100]\ttrain's rmse: 3.84036\tvalidation's rmse: 3.83188\n",
      "\n",
      "Training until validation scores don't improve for 150 rounds.\n",
      "[100]\ttrain's rmse: 3.82552\tvalidation's rmse: 3.89137\n",
      "[200]\ttrain's rmse: 3.82432\tvalidation's rmse: 3.89174\n",
      "Early stopping, best iteration is:\n",
      "[101]\ttrain's rmse: 3.82549\tvalidation's rmse: 3.89136\n",
      "\n"
     ]
    },
    {
     "data": {
      "image/png": "[encoded data removed]",
      "text/plain": [
       "<matplotlib.figure.Figure at 0x103aaecf8>"
      ]
     },
     "metadata": {},
     "output_type": "display_data"
    },
    {
     "name": "stdout",
     "output_type": "stream",
     "text": [
      "Full Model Run - Done in 12s\n",
      "\n"
     ]
    }
   ],
   "source": [
    "with pp.timer(\"Full Model Run\"):\n",
    "    train_X, train_y, test_X, ids = get_datasets(debug_size = debug_size, silent = silent)\n",
    "    features = train_X.columns.tolist()\n",
    "        \n",
    "    pred_test = 0\n",
    "    kf = model_selection.KFold(n_splits=5, random_state=2018, shuffle=True)\n",
    "    for dev_index, val_index in kf.split(train_X):\n",
    "        dev_X, val_X = train_X.loc[dev_index,:], train_X.loc[val_index,:]\n",
    "        dev_y, val_y = train_y[dev_index], train_y[val_index]\n",
    "    \n",
    "        lgb_booster, predictions = run_lgb(dev_X, dev_y, val_X, val_y, test_X, features, verbose = verbose,  early_stopping_rounds = early_stopping_rounds)\n",
    "        pred_test += predictions\n",
    "        print(\"\")\n",
    "            \n",
    "    pred_test /= 5.\n",
    "        \n",
    "    fig, ax = plt.subplots(figsize=(12,10))\n",
    "    lgb.plot_importance(lgb_booster, max_num_features=50, height=0.8, ax=ax)\n",
    "    ax.grid(False)\n",
    "    plt.title(\"LightGBM - Feature Importance\", fontsize=15)\n",
    "    plt.show()\n",
    "        \n",
    "    sub_df = pd.DataFrame({\"card_id\": ids})\n",
    "    sub_df[\"target\"] = pred_test\n",
    "    sub_df.to_csv(\"first_lgb.csv\", index=False)"
   ]
  },
  {
   "cell_type": "code",
   "execution_count": 7,
   "metadata": {},
   "outputs": [
    {
     "name": "stderr",
     "output_type": "stream",
     "text": [
      "/anaconda3/envs/kaggle/lib/python3.6/importlib/_bootstrap.py:205: ImportWarning: can't resolve package from __spec__ or __package__, falling back on __name__ and __path__\n",
      "  return f(*args, **kwds)\n"
     ]
    }
   ],
   "source": [
    "from sklearn.model_selection import cross_val_score\n",
    "from sklearn.linear_model import ElasticNet, Lasso, BayesianRidge, Ridge, SGDRegressor, LassoLars\n",
    "from sklearn.ensemble import RandomForestRegressor, GradientBoostingRegressor, ExtraTreesRegressor\n",
    "import numpy as np"
   ]
  },
  {
   "cell_type": "code",
   "execution_count": 8,
   "metadata": {
    "collapsed": true
   },
   "outputs": [],
   "source": [
    "model_lasso = Lasso(alpha = 0.000507)\n",
    "model_ridge = Ridge()\n",
    "model_ENet = ElasticNet(alpha=0.0005, l1_ratio=.9, random_state=3, max_iter = 10000)\n",
    "model_rforest = RandomForestRegressor()"
   ]
  },
  {
   "cell_type": "code",
   "execution_count": 9,
   "metadata": {},
   "outputs": [
    {
     "name": "stdout",
     "output_type": "stream",
     "text": [
      "[ 3.82214121  3.86294031  3.86954698]\n"
     ]
    }
   ],
   "source": [
    "print(np.sqrt((-cross_val_score(model_rforest, train_X, train_y, cv=3, scoring=\"neg_mean_squared_error\"))))"
   ]
  },
  {
   "cell_type": "code",
   "execution_count": null,
   "metadata": {
    "collapsed": true
   },
   "outputs": [],
   "source": []
  }
 ],
 "metadata": {
  "kernelspec": {
   "display_name": "Python 3",
   "language": "python",
   "name": "python3"
  },
  "language_info": {
   "codemirror_mode": {
    "name": "ipython",
    "version": 3
   },
   "file_extension": ".py",
   "mimetype": "text/x-python",
   "name": "python",
   "nbconvert_exporter": "python",
   "pygments_lexer": "ipython3",
   "version": "3.6.1"
  }
 },
 "nbformat": 4,
 "nbformat_minor": 2
}
