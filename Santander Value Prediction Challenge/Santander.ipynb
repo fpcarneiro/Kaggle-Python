{
 "cells": [
  {
   "cell_type": "markdown",
   "metadata": {},
   "source": [
    "# Santander Value Prediction Challenge\n",
    "---"
   ]
  },
  {
   "cell_type": "code",
   "execution_count": 125,
   "metadata": {},
   "outputs": [],
   "source": [
    "import preprocessing as pp\n",
    "import ensemble as em\n",
    "import pandas as pd\n",
    "\n",
    "import numpy as np\n",
    "\n",
    "from sklearn.preprocessing import RobustScaler, FunctionTransformer, Binarizer\n",
    "from sklearn.feature_selection import VarianceThreshold, SelectKBest, f_regression\n",
    "from sklearn.feature_selection import SelectPercentile, SelectFromModel, mutual_info_regression\n",
    "from sklearn.ensemble import RandomForestRegressor, ExtraTreesRegressor\n",
    "from sklearn.linear_model import BayesianRidge, Lasso, Ridge\n",
    "from sklearn.pipeline import FeatureUnion, Pipeline\n",
    "from sklearn.model_selection import train_test_split\n",
    "\n",
    "import lightgbm as lgb\n",
    "\n",
    "from xgboost import XGBRegressor\n",
    "\n",
    "from sklearn.base import BaseEstimator, TransformerMixin"
   ]
  },
  {
   "cell_type": "code",
   "execution_count": 83,
   "metadata": {},
   "outputs": [],
   "source": [
    "class BinarizerTransformer(BaseEstimator, TransformerMixin):\n",
    "    def __init__(self, columns = None):\n",
    "        self.columns = columns\n",
    "\n",
    "    def transform(self, X, y=None):\n",
    "        output = X.copy()\n",
    "        print(str(len(self.columns)) + \" to binarize!\")\n",
    "        output.loc[:,self.columns] = Binarizer().fit_transform(output.loc[:,self.columns])\n",
    "        return output\n",
    "\n",
    "    def fit(self, X, y=None):\n",
    "        return self\n",
    "    \n",
    "    def fit_transform(self,X,y=None):\n",
    "        return self.fit(X,y).transform(X)"
   ]
  },
  {
   "cell_type": "code",
   "execution_count": 2,
   "metadata": {},
   "outputs": [],
   "source": [
    "train, test = pp.read_train_test(train_file = 'train.csv', test_file = 'test.csv')"
   ]
  },
  {
   "cell_type": "code",
   "execution_count": 3,
   "metadata": {},
   "outputs": [],
   "source": [
    "ids = list(test.ID)"
   ]
  },
  {
   "cell_type": "code",
   "execution_count": 4,
   "metadata": {},
   "outputs": [],
   "source": [
    "train_X = train.drop(['ID','target'], axis=1)\n",
    "train_y = (np.log1p(train.target)).values\n",
    "\n",
    "test_X = test.drop(['ID'], axis=1)"
   ]
  },
  {
   "cell_type": "code",
   "execution_count": 5,
   "metadata": {},
   "outputs": [],
   "source": [
    "scaler = RobustScaler()"
   ]
  },
  {
   "cell_type": "code",
   "execution_count": 6,
   "metadata": {},
   "outputs": [],
   "source": [
    "threshold = .98 * (1 - .98)\n",
    "variance = VarianceThreshold(threshold)"
   ]
  },
  {
   "cell_type": "code",
   "execution_count": 60,
   "metadata": {},
   "outputs": [],
   "source": [
    "int64_columns = list(train_X.select_dtypes(include=['int64']).columns)\n",
    "float64_columns = list(train_X.select_dtypes(include=['float64']).columns)"
   ]
  },
  {
   "cell_type": "code",
   "execution_count": 84,
   "metadata": {},
   "outputs": [],
   "source": [
    "binarizer = BinarizerTransformer(columns=int64_columns)"
   ]
  },
  {
   "cell_type": "code",
   "execution_count": 85,
   "metadata": {},
   "outputs": [
    {
     "data": {
      "text/plain": [
       "BinarizerTransformer(columns=['0deb4b6a8', 'a8cb14b00', '2f0771a37', '30347e683', 'd08d1fbe3', '6ee66e115', '77c9823f2', '8d6c2a0b2', '4681de4fd', 'adf119b9a', '96f83a237', '6c7a4567c', '4fcfd2b4d', '71cebf11c', 'd966ac62c', 'c88d108c9', 'ff7b471cd', 'd5308d8bc', 'bc3f77679', '0eff5bf95', 'c330f1a67', '2cb4d123e', 'eeac...5fd5508', '3a13ed79a', 'f677d4d13', '71b203550', '137efaa80', 'fb36b89d9', '7e293fbaf', '9fc776466'])"
      ]
     },
     "execution_count": 85,
     "metadata": {},
     "output_type": "execute_result"
    }
   ],
   "source": [
    "binarizer"
   ]
  },
  {
   "cell_type": "code",
   "execution_count": 7,
   "metadata": {},
   "outputs": [],
   "source": [
    "anova_filter = SelectKBest(f_regression, k=4000)"
   ]
  },
  {
   "cell_type": "code",
   "execution_count": 8,
   "metadata": {},
   "outputs": [],
   "source": [
    "model_rforest = RandomForestRegressor(n_estimators = 50, \n",
    "                                      max_features = 0.7,\n",
    "                                      random_state=2018,\n",
    "                                      max_depth=20,\n",
    "                                      min_samples_leaf = 4,\n",
    "                                      min_samples_split = 10)"
   ]
  },
  {
   "cell_type": "code",
   "execution_count": 107,
   "metadata": {},
   "outputs": [],
   "source": [
    "model_lgb = lgb.LGBMRegressor(objective='regression',\n",
    "                              metric=\"rmse\",\n",
    "                              n_estimators = 500,\n",
    "                              num_leaves = 30,\n",
    "                              learning_rate = 0.01,\n",
    "                              bagging_fraction = 0.7,\n",
    "                              feature_fraction = 0.7,\n",
    "                              bagging_frequency = 5,\n",
    "                              bagging_seed = 2018,\n",
    "                              verbosity = -1)"
   ]
  },
  {
   "cell_type": "code",
   "execution_count": 108,
   "metadata": {},
   "outputs": [
    {
     "data": {
      "text/plain": [
       "LGBMRegressor(bagging_fraction=0.7, bagging_frequency=5, bagging_seed=2018,\n",
       "       boosting_type='gbdt', class_weight=None, colsample_bytree=1.0,\n",
       "       feature_fraction=0.7, learning_rate=0.01, max_depth=-1,\n",
       "       metric='rmse', min_child_samples=20, min_child_weight=0.001,\n",
       "       min_split_gain=0.0, n_estimators=500, n_jobs=-1, num_leaves=30,\n",
       "       objective='regression', random_state=None, reg_alpha=0.0,\n",
       "       reg_lambda=0.0, silent=True, subsample=1.0,\n",
       "       subsample_for_bin=200000, subsample_freq=1, verbosity=-1)"
      ]
     },
     "execution_count": 108,
     "metadata": {},
     "output_type": "execute_result"
    }
   ],
   "source": [
    "model_lgb"
   ]
  },
  {
   "cell_type": "code",
   "execution_count": 10,
   "metadata": {},
   "outputs": [],
   "source": [
    "model_xgb = XGBRegressor(n_estimators = 100, \n",
    "                         colsample_bytree = 0.7,\n",
    "                         colsample_bylevel = 0.7,\n",
    "                         learning_rate=0.1)"
   ]
  },
  {
   "cell_type": "code",
   "execution_count": 20,
   "metadata": {},
   "outputs": [],
   "source": [
    "model_byr = BayesianRidge()\n",
    "\n",
    "percentile = SelectPercentile(mutual_info_regression, percentile=35)\n",
    "\n",
    "from_model_lasso = SelectFromModel(Lasso())\n",
    "from_model_extra_tree = SelectFromModel(ExtraTreesRegressor(n_estimators=200, max_depth=20, \n",
    "                                                            max_features=0.5, n_jobs=-1, random_state=0))\n",
    "from_model_lgb = SelectFromModel(model_lgb)"
   ]
  },
  {
   "cell_type": "code",
   "execution_count": 21,
   "metadata": {},
   "outputs": [],
   "source": [
    "log_transformer = FunctionTransformer(np.log1p)"
   ]
  },
  {
   "cell_type": "code",
   "execution_count": 216,
   "metadata": {
    "collapsed": true
   },
   "outputs": [],
   "source": [
    "feature_selection = []\n",
    "#feature_selection.append(('percentile', percentile))\n",
    "#feature_selection.append(('from_model_lasso', from_model_lasso))\n",
    "#feature_selection.append(('from_model_extra_tree', from_model_extra_tree))\n",
    "feature_selection.append(('from_model_lgb', from_model_lgb))\n",
    "feature_selection_union = FeatureUnion(feature_selection)"
   ]
  },
  {
   "cell_type": "code",
   "execution_count": 111,
   "metadata": {},
   "outputs": [],
   "source": [
    "estimators = []\n",
    "#estimators.append(('binarizer', binarizer))\n",
    "estimators.append(('low_variance', variance))\n",
    "#estimators.append(('scaler', scaler))\n",
    "#estimators.append(('anova', anova_filter))\n",
    "#estimators.append(('log_transform', log_transformer))\n",
    "#estimators.append(('percentile', percentile))\n",
    "#estimators.append(('from_model', from_model))\n",
    "#estimators.append(('feature_selection', feature_selection_union))"
   ]
  },
  {
   "cell_type": "code",
   "execution_count": 112,
   "metadata": {},
   "outputs": [
    {
     "data": {
      "text/plain": [
       "Pipeline(memory=None,\n",
       "     steps=[('low_variance', VarianceThreshold(threshold=0.019600000000000017))])"
      ]
     },
     "execution_count": 112,
     "metadata": {},
     "output_type": "execute_result"
    }
   ],
   "source": [
    "pipe = Pipeline(estimators)\n",
    "pipe.fit(train_X, train_y)"
   ]
  },
  {
   "cell_type": "code",
   "execution_count": 113,
   "metadata": {},
   "outputs": [],
   "source": [
    "train_X_reduced = pipe.transform(train_X)\n",
    "test_X_reduced = pipe.transform(test_X)"
   ]
  },
  {
   "cell_type": "code",
   "execution_count": 114,
   "metadata": {},
   "outputs": [
    {
     "data": {
      "text/plain": [
       "numpy.ndarray"
      ]
     },
     "execution_count": 114,
     "metadata": {},
     "output_type": "execute_result"
    }
   ],
   "source": [
    "type(train_X_reduced)"
   ]
  },
  {
   "cell_type": "code",
   "execution_count": 115,
   "metadata": {},
   "outputs": [
    {
     "name": "stdout",
     "output_type": "stream",
     "text": [
      "(4459, 4735)\n",
      "(49342, 4735)\n"
     ]
    }
   ],
   "source": [
    "print(train_X_reduced.shape)\n",
    "print(test_X_reduced.shape)"
   ]
  },
  {
   "cell_type": "code",
   "execution_count": 116,
   "metadata": {},
   "outputs": [],
   "source": [
    "train_set_X, test_set_X, train_set_y, test_set_y = train_test_split(train_X_reduced, train_y, test_size=0.1)"
   ]
  },
  {
   "cell_type": "code",
   "execution_count": 117,
   "metadata": {},
   "outputs": [
    {
     "data": {
      "text/plain": [
       "(4013, 4735)"
      ]
     },
     "execution_count": 117,
     "metadata": {},
     "output_type": "execute_result"
    }
   ],
   "source": [
    "train_set_X.shape"
   ]
  },
  {
   "cell_type": "code",
   "execution_count": 118,
   "metadata": {},
   "outputs": [],
   "source": [
    "tree_models = []\n",
    "tree_models.append((\"lgb\", model_lgb))\n",
    "#tree_models.append((\"rf\", model_rforest))\n",
    "#tree_models.append((\"xgb\", model_xgb))"
   ]
  },
  {
   "cell_type": "code",
   "execution_count": 119,
   "metadata": {},
   "outputs": [
    {
     "name": "stdout",
     "output_type": "stream",
     "text": [
      "   Cross Validation (Mean)                          Cross Validation (Scores)  \\\n",
      "0                 1.427358  [1.28994783841, 1.45459540163, 1.42740622591, ...   \n",
      "\n",
      "   Cross Validation (Std) Model  \n",
      "0                0.071635   lgb  \n",
      "Wall time: 10min 31s\n"
     ]
    }
   ],
   "source": [
    "%%time\n",
    "cross_val_table = pp.get_validation_scores(tree_models, train_set_X, train_set_y, 10)\n",
    "print(cross_val_table)"
   ]
  },
  {
   "cell_type": "code",
   "execution_count": 137,
   "metadata": {},
   "outputs": [
    {
     "name": "stdout",
     "output_type": "stream",
     "text": [
      "   Cross Validation (Mean)                          Cross Validation (Scores)  \\\n",
      "0                     1.43  [1.28994783841, 1.45459540163, 1.42740622591, ...   \n",
      "\n",
      "   Cross Validation (Std) Model  \n",
      "0                    0.07   lgb  \n",
      "[[ array([ 1.28994784,  1.4545954 ,  1.42740623,  1.40929093,  1.37168061,\n",
      "        1.48151798,  1.44677035,  1.57800285,  1.38027808,  1.43409188])]]\n"
     ]
    }
   ],
   "source": [
    "pd.set_option(\"display.precision\",2)\n",
    "print(cross_val_table)\n",
    "print(cross_val_table.loc[:,[\"Cross Validation (Scores)\"]].values)"
   ]
  },
  {
   "cell_type": "code",
   "execution_count": 37,
   "metadata": {},
   "outputs": [],
   "source": [
    "averaged_models = em.AveragingModels(models = [model_lgb, model_rforest])"
   ]
  },
  {
   "cell_type": "code",
   "execution_count": 39,
   "metadata": {
    "collapsed": true
   },
   "outputs": [],
   "source": [
    "ensemble_models = []\n",
    "ensemble_models.append((\"averaged\", averaged_models))"
   ]
  },
  {
   "cell_type": "code",
   "execution_count": 40,
   "metadata": {},
   "outputs": [
    {
     "name": "stderr",
     "output_type": "stream",
     "text": [
      "/Users/FPCarneiro/anaconda/lib/python3.6/site-packages/lightgbm/basic.py:642: UserWarning: max_bin keyword has been found in `params` and will be ignored. Please use max_bin argument of the Dataset constructor to pass this parameter.\n",
      "  'Please use {0} argument of the Dataset constructor to pass this parameter.'.format(key))\n",
      "/Users/FPCarneiro/anaconda/lib/python3.6/site-packages/lightgbm/basic.py:648: LGBMDeprecationWarning: The `max_bin` parameter is deprecated and will be removed in 2.0.12 version. Please use `params` to pass this parameter.\n",
      "  'Please use `params` to pass this parameter.', LGBMDeprecationWarning)\n",
      "/Users/FPCarneiro/anaconda/lib/python3.6/site-packages/lightgbm/basic.py:642: UserWarning: max_bin keyword has been found in `params` and will be ignored. Please use max_bin argument of the Dataset constructor to pass this parameter.\n",
      "  'Please use {0} argument of the Dataset constructor to pass this parameter.'.format(key))\n",
      "/Users/FPCarneiro/anaconda/lib/python3.6/site-packages/lightgbm/basic.py:648: LGBMDeprecationWarning: The `max_bin` parameter is deprecated and will be removed in 2.0.12 version. Please use `params` to pass this parameter.\n",
      "  'Please use `params` to pass this parameter.', LGBMDeprecationWarning)\n",
      "/Users/FPCarneiro/anaconda/lib/python3.6/site-packages/lightgbm/basic.py:642: UserWarning: max_bin keyword has been found in `params` and will be ignored. Please use max_bin argument of the Dataset constructor to pass this parameter.\n",
      "  'Please use {0} argument of the Dataset constructor to pass this parameter.'.format(key))\n",
      "/Users/FPCarneiro/anaconda/lib/python3.6/site-packages/lightgbm/basic.py:648: LGBMDeprecationWarning: The `max_bin` parameter is deprecated and will be removed in 2.0.12 version. Please use `params` to pass this parameter.\n",
      "  'Please use `params` to pass this parameter.', LGBMDeprecationWarning)\n",
      "/Users/FPCarneiro/anaconda/lib/python3.6/site-packages/lightgbm/basic.py:642: UserWarning: max_bin keyword has been found in `params` and will be ignored. Please use max_bin argument of the Dataset constructor to pass this parameter.\n",
      "  'Please use {0} argument of the Dataset constructor to pass this parameter.'.format(key))\n",
      "/Users/FPCarneiro/anaconda/lib/python3.6/site-packages/lightgbm/basic.py:648: LGBMDeprecationWarning: The `max_bin` parameter is deprecated and will be removed in 2.0.12 version. Please use `params` to pass this parameter.\n",
      "  'Please use `params` to pass this parameter.', LGBMDeprecationWarning)\n",
      "/Users/FPCarneiro/anaconda/lib/python3.6/site-packages/lightgbm/basic.py:642: UserWarning: max_bin keyword has been found in `params` and will be ignored. Please use max_bin argument of the Dataset constructor to pass this parameter.\n",
      "  'Please use {0} argument of the Dataset constructor to pass this parameter.'.format(key))\n",
      "/Users/FPCarneiro/anaconda/lib/python3.6/site-packages/lightgbm/basic.py:648: LGBMDeprecationWarning: The `max_bin` parameter is deprecated and will be removed in 2.0.12 version. Please use `params` to pass this parameter.\n",
      "  'Please use `params` to pass this parameter.', LGBMDeprecationWarning)\n"
     ]
    },
    {
     "name": "stdout",
     "output_type": "stream",
     "text": [
      "   Cross Validation (Mean)                          Cross Validation (Scores)  \\\n",
      "0                 1.436595  [1.46571933907, 1.3990139641, 1.44531166378, 1...   \n",
      "\n",
      "   Cross Validation (Std)     Model  \n",
      "0                0.021752  averaged  \n"
     ]
    }
   ],
   "source": [
    "cross_val_table_avg = pp.get_validation_scores(ensemble_models, train_X_reduced, train_y, 5)\n",
    "print(cross_val_table_avg)"
   ]
  },
  {
   "cell_type": "code",
   "execution_count": 223,
   "metadata": {},
   "outputs": [
    {
     "name": "stderr",
     "output_type": "stream",
     "text": [
      "/Users/FPCarneiro/anaconda/lib/python3.6/site-packages/lightgbm/basic.py:642: UserWarning: max_bin keyword has been found in `params` and will be ignored. Please use max_bin argument of the Dataset constructor to pass this parameter.\n",
      "  'Please use {0} argument of the Dataset constructor to pass this parameter.'.format(key))\n",
      "/Users/FPCarneiro/anaconda/lib/python3.6/site-packages/lightgbm/basic.py:648: LGBMDeprecationWarning: The `max_bin` parameter is deprecated and will be removed in 2.0.12 version. Please use `params` to pass this parameter.\n",
      "  'Please use `params` to pass this parameter.', LGBMDeprecationWarning)\n"
     ]
    }
   ],
   "source": [
    "pp.make_submission(model_lgb, train_X_reduced, train_y, test_X_reduced, ids, filename = 'submission.csv')"
   ]
  },
  {
   "cell_type": "code",
   "execution_count": 64,
   "metadata": {},
   "outputs": [
    {
     "name": "stdout",
     "output_type": "stream",
     "text": [
      "[ 1.36466376  1.44970895  1.54590952  1.43400053  1.3840896   1.4852663\n",
      "  1.40555309  1.40547909  1.37186718  1.36653694]\n"
     ]
    }
   ],
   "source": [
    "print(cross_val_table[\"Cross Validation (Scores)\"][0])"
   ]
  },
  {
   "cell_type": "code",
   "execution_count": 48,
   "metadata": {},
   "outputs": [
    {
     "data": {
      "text/plain": [
       "{dtype('int64'): Index(['0deb4b6a8', 'a8cb14b00', '2f0771a37', '30347e683', 'd08d1fbe3',\n",
       "        '6ee66e115', '77c9823f2', '8d6c2a0b2', '4681de4fd', 'adf119b9a',\n",
       "        ...\n",
       "        '9437d8b64', '2e84e09c5', 'd45fd5508', '3a13ed79a', 'f677d4d13',\n",
       "        '71b203550', '137efaa80', 'fb36b89d9', '7e293fbaf', '9fc776466'],\n",
       "       dtype='object', length=3147),\n",
       " dtype('float64'): Index(['48df886f9', '34b15f335', '20aa07010', 'dc5a8f1d8', '11d86fa6a',\n",
       "        'cff75dd09', 'b8a716ebf', 'f3b9c0b95', '68b647452', '0d866c3d7',\n",
       "        ...\n",
       "        '2a879b4f7', '6b119d8ce', '7ad6b38bd', '85dcc913d', '8d8bffbae',\n",
       "        '5831f4c76', 'a165f5761', '3ecc09859', '9281abeea', '8675bec0b'],\n",
       "       dtype='object', length=1844)}"
      ]
     },
     "execution_count": 48,
     "metadata": {},
     "output_type": "execute_result"
    }
   ],
   "source": [
    "train_X.columns.groupby(train_X.dtypes)"
   ]
  },
  {
   "cell_type": "code",
   "execution_count": 91,
   "metadata": {},
   "outputs": [
    {
     "data": {
      "text/plain": [
       "0    4425\n",
       "1      34\n",
       "Name: fb36b89d9, dtype: int64"
      ]
     },
     "execution_count": 91,
     "metadata": {},
     "output_type": "execute_result"
    }
   ],
   "source": [
    "train_X_reduced.loc[:,\"fb36b89d9\"].value_counts()"
   ]
  },
  {
   "cell_type": "code",
   "execution_count": 206,
   "metadata": {},
   "outputs": [
    {
     "data": {
      "text/plain": [
       "0             4259\n",
       "4234000         16\n",
       "1000000         11\n",
       "200000          11\n",
       "12000000        10\n",
       "2000000          6\n",
       "4000000          5\n",
       "100000           5\n",
       "8000             5\n",
       "32600000         5\n",
       "800000           4\n",
       "100000000        3\n",
       "600000           3\n",
       "7000000          3\n",
       "5000000          3\n",
       "50000000         3\n",
       "1200000          3\n",
       "20000000         3\n",
       "16000            3\n",
       "460000           2\n",
       "1600000          2\n",
       "390000           2\n",
       "8000000          2\n",
       "1400000          2\n",
       "10000000         2\n",
       "400000           2\n",
       "3800000          2\n",
       "140000           2\n",
       "1336000          2\n",
       "6800000          2\n",
       "              ... \n",
       "1900000          1\n",
       "158400000        1\n",
       "10600000         1\n",
       "2400000          1\n",
       "180000           1\n",
       "84600000         1\n",
       "16980000         1\n",
       "19200000         1\n",
       "3600000          1\n",
       "2243000000       1\n",
       "520000           1\n",
       "258000           1\n",
       "14000000         1\n",
       "163960000        1\n",
       "668000           1\n",
       "2200000          1\n",
       "32830000         1\n",
       "92648000         1\n",
       "190600000        1\n",
       "300000           1\n",
       "80000000         1\n",
       "17020000         1\n",
       "91600000         1\n",
       "120000           1\n",
       "202000           1\n",
       "30000            1\n",
       "6600000          1\n",
       "4800000          1\n",
       "24000000         1\n",
       "12800000         1\n",
       "Name: f1c272f04, dtype: int64"
      ]
     },
     "execution_count": 206,
     "metadata": {},
     "output_type": "execute_result"
    }
   ],
   "source": [
    "train_X.loc[:,\"f1c272f04\"].value_counts()"
   ]
  },
  {
   "cell_type": "code",
   "execution_count": 50,
   "metadata": {},
   "outputs": [],
   "source": [
    "int64_columns = list(train_X.select_dtypes(include=['int64']).columns)\n",
    "float64_columns = list(train_X.select_dtypes(include=['float64']).columns)"
   ]
  },
  {
   "cell_type": "code",
   "execution_count": 51,
   "metadata": {},
   "outputs": [
    {
     "name": "stdout",
     "output_type": "stream",
     "text": [
      "3147\n",
      "1844\n"
     ]
    }
   ],
   "source": [
    "print(len(int64_columns))\n",
    "print(len(float64_columns))"
   ]
  },
  {
   "cell_type": "code",
   "execution_count": 151,
   "metadata": {},
   "outputs": [
    {
     "data": {
      "text/plain": [
       "VarianceThreshold(threshold=0.019600000000000017)"
      ]
     },
     "execution_count": 151,
     "metadata": {},
     "output_type": "execute_result"
    }
   ],
   "source": [
    "threshold = .98 * (1 - .98)\n",
    "variance = VarianceThreshold(threshold)\n",
    "variance.fit(train_X[int64_columns])"
   ]
  },
  {
   "cell_type": "code",
   "execution_count": 152,
   "metadata": {
    "collapsed": true
   },
   "outputs": [],
   "source": [
    "tXint = variance.transform(train_X[int64_columns])"
   ]
  },
  {
   "cell_type": "code",
   "execution_count": 153,
   "metadata": {},
   "outputs": [
    {
     "data": {
      "text/plain": [
       "(4459, 2891)"
      ]
     },
     "execution_count": 153,
     "metadata": {},
     "output_type": "execute_result"
    }
   ],
   "source": [
    "tXint.shape"
   ]
  },
  {
   "cell_type": "code",
   "execution_count": 136,
   "metadata": {},
   "outputs": [],
   "source": [
    "variance.fit(train_X[float64_columns])\n",
    "tXfloat = variance.transform(train_X[float64_columns])"
   ]
  },
  {
   "cell_type": "code",
   "execution_count": 137,
   "metadata": {},
   "outputs": [
    {
     "data": {
      "text/plain": [
       "(4459, 1844)"
      ]
     },
     "execution_count": 137,
     "metadata": {},
     "output_type": "execute_result"
    }
   ],
   "source": [
    "tXfloat.shape"
   ]
  },
  {
   "cell_type": "code",
   "execution_count": 52,
   "metadata": {},
   "outputs": [],
   "source": [
    "only_int = train.loc[:,int64_columns + [\"target\", \"ID\"]]"
   ]
  },
  {
   "cell_type": "code",
   "execution_count": 54,
   "metadata": {},
   "outputs": [],
   "source": [
    "only_int.to_csv(\"only_int.csv\")"
   ]
  },
  {
   "cell_type": "code",
   "execution_count": 139,
   "metadata": {},
   "outputs": [
    {
     "data": {
      "text/plain": [
       "array([  1.51543707e+11,   3.24787455e+11,   9.23349065e+13, ...,\n",
       "         1.65452181e+13,   1.96106628e+13,   2.03648194e+13])"
      ]
     },
     "execution_count": 139,
     "metadata": {},
     "output_type": "execute_result"
    }
   ],
   "source": [
    "variance.variances_"
   ]
  },
  {
   "cell_type": "code",
   "execution_count": 154,
   "metadata": {},
   "outputs": [],
   "source": [
    "features_variance = list(train_X[int64_columns].loc[:, variance.get_support()==False].columns)"
   ]
  },
  {
   "cell_type": "code",
   "execution_count": 155,
   "metadata": {},
   "outputs": [
    {
     "data": {
      "text/plain": [
       "['d5308d8bc',\n",
       " 'c330f1a67',\n",
       " 'eeac16933',\n",
       " '7df8788e8',\n",
       " '5b91580ee',\n",
       " '6f29fbbc7',\n",
       " '46dafc868',\n",
       " 'ae41a98b6',\n",
       " 'f416800e9',\n",
       " '6d07828ca',\n",
       " '7ac332a1d',\n",
       " '70ee7950a',\n",
       " '833b35a7c',\n",
       " '2f9969eab',\n",
       " '8b1372217',\n",
       " '68322788b',\n",
       " '2288ac1a6',\n",
       " 'dc7f76962',\n",
       " '467044c26',\n",
       " '39ebfbfd9',\n",
       " '9a5ff8c23',\n",
       " 'f6fac27c8',\n",
       " '664e2800e',\n",
       " 'ae28689a2',\n",
       " 'd87dcac58',\n",
       " '4065efbb6',\n",
       " 'f944d9d43',\n",
       " 'c2c4491d5',\n",
       " 'a4346e2e2',\n",
       " '1af366d4f',\n",
       " 'cfff5b7c8',\n",
       " 'da215e99e',\n",
       " '5acd26139',\n",
       " '9be9c6cef',\n",
       " '1210d0271',\n",
       " '21b0a54cb',\n",
       " 'da35e792b',\n",
       " '754c502dd',\n",
       " '0b346adbd',\n",
       " '0f196b049',\n",
       " 'b603ed95d',\n",
       " '2a50e001c',\n",
       " '1e81432e7',\n",
       " '10350ea43',\n",
       " '3c7c7e24c',\n",
       " '7585fce2a',\n",
       " '64d036163',\n",
       " 'f25d9935c',\n",
       " 'd98484125',\n",
       " '95c85e227',\n",
       " '9a5273600',\n",
       " '746cdb817',\n",
       " '6377a6293',\n",
       " '7d944fb0c',\n",
       " '87eb21c50',\n",
       " '5ea313a8c',\n",
       " '0987a65a1',\n",
       " '2fb7c2443',\n",
       " 'f5dde409b',\n",
       " '1ae50d4c3',\n",
       " '2b21cd7d8',\n",
       " '0db8a9272',\n",
       " '804d8b55b',\n",
       " '76f135fa6',\n",
       " '7d7182143',\n",
       " 'f88e61ae6',\n",
       " '378ed28e0',\n",
       " 'ca4ba131e',\n",
       " '1352ddae5',\n",
       " '2b601ad67',\n",
       " '6e42ff7c7',\n",
       " '22196a84c',\n",
       " '0e410eb3d',\n",
       " '992e6d1d3',\n",
       " '90a742107',\n",
       " '08b9ec4ae',\n",
       " 'd95203ded',\n",
       " '58ad51def',\n",
       " '9f69ae59f',\n",
       " '863de8a31',\n",
       " 'be10df47c',\n",
       " 'f006d9618',\n",
       " 'a7e39d23d',\n",
       " '5ed0abe85',\n",
       " '6c578fe94',\n",
       " '7fa4fcee9',\n",
       " '5e0571f07',\n",
       " 'fd5659511',\n",
       " 'e06b9f40f',\n",
       " 'c506599c8',\n",
       " '99de8c2dc',\n",
       " 'b05f4b229',\n",
       " '5e0834175',\n",
       " 'eb1cc0d9c',\n",
       " 'b281a62b9',\n",
       " '00fcf67e4',\n",
       " 'e37b65992',\n",
       " '2308e2b29',\n",
       " 'c342e8709',\n",
       " '708471ebf',\n",
       " 'f614aac15',\n",
       " '15ecf7b68',\n",
       " '3bfe540f1',\n",
       " '7a0d98f3c',\n",
       " 'e642315a5',\n",
       " 'c16d456a7',\n",
       " '0c9b5bcfa',\n",
       " 'b778ab129',\n",
       " '2ace87cdd',\n",
       " '697a566f0',\n",
       " '97b1f84fc',\n",
       " '34eff114b',\n",
       " '5281333d7',\n",
       " 'c89f3ba7e',\n",
       " 'cd6d3c7e6',\n",
       " 'fc7c8f2e8',\n",
       " 'abbbf9f82',\n",
       " '24a233e8f',\n",
       " '8e26b560e',\n",
       " 'a28ac1049',\n",
       " '504502ce1',\n",
       " 'd9a8615f3',\n",
       " '4efd6d283',\n",
       " '34cc56e83',\n",
       " '93e98252a',\n",
       " '2b6cef19e',\n",
       " 'c7f70a49b',\n",
       " '0d29ab7eb',\n",
       " 'e4a0d39b7',\n",
       " 'a4d1a8409',\n",
       " 'bc694fc8f',\n",
       " '3a36fc3a2',\n",
       " '4ffba44d3',\n",
       " '9bfdec4bc',\n",
       " '66a866d2f',\n",
       " 'f941e9df7',\n",
       " 'e7af4dbf3',\n",
       " 'dc9a54a3e',\n",
       " '748168a04',\n",
       " 'bba8ce4bb',\n",
       " 'ff6f62aa4',\n",
       " 'b06fe66ba',\n",
       " 'ae87ebc42',\n",
       " 'f26589e57',\n",
       " '963bb53b1',\n",
       " 'a531a4bf0',\n",
       " '9fc79985d',\n",
       " '9350d55c1',\n",
       " 'de06e884c',\n",
       " 'fc10bdf18',\n",
       " 'e0907e883',\n",
       " 'c586d79a1',\n",
       " 'e15e1513d',\n",
       " 'a06067897',\n",
       " '643e42fcb',\n",
       " '217cd3838',\n",
       " '047ebc242',\n",
       " '9b6ce40cf',\n",
       " '3b2c972b3',\n",
       " '17a7bf25a',\n",
       " 'c9028d46b',\n",
       " '9e0473c91',\n",
       " '6b041d374',\n",
       " '783c50218',\n",
       " '19122191d',\n",
       " 'ce573744f',\n",
       " '1c4ea481e',\n",
       " 'fbd6e0a0b',\n",
       " '69831c049',\n",
       " 'b87e3036b',\n",
       " '54ba515ee',\n",
       " 'a09ba0b15',\n",
       " '90f77ec55',\n",
       " 'fb02ef0ea',\n",
       " '3b0cccd29',\n",
       " 'fe9ed417c',\n",
       " '589e8bd6f',\n",
       " '17b5a03fd',\n",
       " '80e16b49a',\n",
       " 'a3d5c2c2a',\n",
       " '1bd3a4e92',\n",
       " '611d81daa',\n",
       " '3d7780b1c',\n",
       " '113fd0206',\n",
       " '5e5894826',\n",
       " 'cb36204f9',\n",
       " 'bc4e3d600',\n",
       " 'c66e2deb0',\n",
       " 'c25851298',\n",
       " 'a7f6de992',\n",
       " '3f93a3272',\n",
       " 'c1b95c2ec',\n",
       " '6bda21fee',\n",
       " '4a64e56e7',\n",
       " '943743753',\n",
       " '20854f8bf',\n",
       " 'ac2e428a9',\n",
       " '5ee7de0be',\n",
       " '316423a21',\n",
       " '2e52b0c6a',\n",
       " '8bdf6bc7e',\n",
       " '8f523faf2',\n",
       " '4758340d5',\n",
       " '8411096ec',\n",
       " '9678b95b7',\n",
       " 'a185e35cc',\n",
       " 'fa980a778',\n",
       " 'c8d90f7d7',\n",
       " '080540c81',\n",
       " '32591c8b4',\n",
       " '5779da33c',\n",
       " 'bb425b41e',\n",
       " '01599af81',\n",
       " '1654ab770',\n",
       " 'd334a588e',\n",
       " 'b4353599c',\n",
       " '51b53eaec',\n",
       " '2cc0fbc52',\n",
       " '45ffef194',\n",
       " 'c15ac04ee',\n",
       " '5b055c8ea',\n",
       " 'd0466eb58',\n",
       " 'a80633823',\n",
       " 'a117a5409',\n",
       " '7ddac276f',\n",
       " '8c32df8b3',\n",
       " 'e5649663e',\n",
       " '6c16efbb8',\n",
       " '9118fd5ca',\n",
       " 'ca8d565f1',\n",
       " '16a5bb8d2',\n",
       " 'fd6347461',\n",
       " 'f5179fb9c',\n",
       " '97428b646',\n",
       " 'f684b0a96',\n",
       " 'e4b2caa9f',\n",
       " '2c2d9f267',\n",
       " '96eb14eaf',\n",
       " 'cb2cb460c',\n",
       " '86f843927',\n",
       " 'ecd16fc60',\n",
       " '801c6dc8e',\n",
       " 'f859a25b8',\n",
       " 'ae846f332',\n",
       " '2252c7403',\n",
       " 'fb9e07326',\n",
       " 'd196ca1fd',\n",
       " 'a8e562e8e',\n",
       " 'eb6bb7ce1',\n",
       " '5beff147e',\n",
       " '52b347cdc',\n",
       " '4600aadcf',\n",
       " '6fa0b9dab',\n",
       " '43d70cc4d',\n",
       " '408021ef8',\n",
       " 'e29d22b59']"
      ]
     },
     "execution_count": 155,
     "metadata": {},
     "output_type": "execute_result"
    }
   ],
   "source": [
    "features_variance"
   ]
  },
  {
   "cell_type": "code",
   "execution_count": 156,
   "metadata": {},
   "outputs": [
    {
     "data": {
      "text/plain": [
       "256"
      ]
     },
     "execution_count": 156,
     "metadata": {},
     "output_type": "execute_result"
    }
   ],
   "source": [
    "len(features_variance)"
   ]
  },
  {
   "cell_type": "code",
   "execution_count": 150,
   "metadata": {},
   "outputs": [
    {
     "data": {
      "text/plain": [
       "1844"
      ]
     },
     "execution_count": 150,
     "metadata": {},
     "output_type": "execute_result"
    }
   ],
   "source": [
    "len(variance.get_support())"
   ]
  },
  {
   "cell_type": "code",
   "execution_count": 159,
   "metadata": {},
   "outputs": [
    {
     "data": {
      "text/plain": [
       "3147"
      ]
     },
     "execution_count": 159,
     "metadata": {},
     "output_type": "execute_result"
    }
   ],
   "source": [
    "len(variance.variances_)"
   ]
  },
  {
   "cell_type": "code",
   "execution_count": 179,
   "metadata": {},
   "outputs": [],
   "source": [
    "import pandas as pd\n",
    "varis = pd.DataFrame({'col': int64_columns, 'var': list(variance.variances_)})\n",
    "varis.sort_values(\"var\", ascending=False, inplace = True)"
   ]
  },
  {
   "cell_type": "code",
   "execution_count": 180,
   "metadata": {},
   "outputs": [
    {
     "ename": "TypeError",
     "evalue": "'>=' not supported between instances of 'method' and 'int'",
     "output_type": "error",
     "traceback": [
      "\u001b[0;31m---------------------------------------------------------------------------\u001b[0m",
      "\u001b[0;31mTypeError\u001b[0m                                 Traceback (most recent call last)",
      "\u001b[0;32m<ipython-input-180-f1837362b557>\u001b[0m in \u001b[0;36m<module>\u001b[0;34m()\u001b[0m\n\u001b[0;32m----> 1\u001b[0;31m \u001b[0mvaris_dif0\u001b[0m \u001b[0;34m=\u001b[0m \u001b[0mvaris\u001b[0m\u001b[0;34m[\u001b[0m\u001b[0mvaris\u001b[0m\u001b[0;34m.\u001b[0m\u001b[0mvar\u001b[0m \u001b[0;34m>=\u001b[0m \u001b[0;36m0\u001b[0m\u001b[0;34m]\u001b[0m\u001b[0;34m\u001b[0m\u001b[0m\n\u001b[0m",
      "\u001b[0;31mTypeError\u001b[0m: '>=' not supported between instances of 'method' and 'int'"
     ]
    }
   ],
   "source": [
    "varis_dif0 = varis[varis.var >= 0]"
   ]
  },
  {
   "cell_type": "code",
   "execution_count": 205,
   "metadata": {},
   "outputs": [
    {
     "data": {
      "text/html": [
       "<div>\n",
       "<table border=\"1\" class=\"dataframe\">\n",
       "  <thead>\n",
       "    <tr style=\"text-align: right;\">\n",
       "      <th></th>\n",
       "      <th>col</th>\n",
       "      <th>var</th>\n",
       "    </tr>\n",
       "  </thead>\n",
       "  <tbody>\n",
       "    <tr>\n",
       "      <th>240</th>\n",
       "      <td>f1c272f04</td>\n",
       "      <td>1.379889e+15</td>\n",
       "    </tr>\n",
       "    <tr>\n",
       "      <th>1812</th>\n",
       "      <td>b77c707ef</td>\n",
       "      <td>1.343034e+15</td>\n",
       "    </tr>\n",
       "    <tr>\n",
       "      <th>2198</th>\n",
       "      <td>1029d9146</td>\n",
       "      <td>1.205822e+15</td>\n",
       "    </tr>\n",
       "    <tr>\n",
       "      <th>2004</th>\n",
       "      <td>ff3b49c1d</td>\n",
       "      <td>1.187637e+15</td>\n",
       "    </tr>\n",
       "    <tr>\n",
       "      <th>1755</th>\n",
       "      <td>56cb93fd8</td>\n",
       "      <td>1.185721e+15</td>\n",
       "    </tr>\n",
       "    <tr>\n",
       "      <th>1208</th>\n",
       "      <td>4c835bd02</td>\n",
       "      <td>1.181086e+15</td>\n",
       "    </tr>\n",
       "    <tr>\n",
       "      <th>420</th>\n",
       "      <td>c059f2574</td>\n",
       "      <td>1.177803e+15</td>\n",
       "    </tr>\n",
       "    <tr>\n",
       "      <th>542</th>\n",
       "      <td>33e4f9a0e</td>\n",
       "      <td>1.176518e+15</td>\n",
       "    </tr>\n",
       "    <tr>\n",
       "      <th>1274</th>\n",
       "      <td>6488c8200</td>\n",
       "      <td>5.638306e+14</td>\n",
       "    </tr>\n",
       "    <tr>\n",
       "      <th>2637</th>\n",
       "      <td>453128993</td>\n",
       "      <td>5.542936e+14</td>\n",
       "    </tr>\n",
       "  </tbody>\n",
       "</table>\n",
       "</div>"
      ],
      "text/plain": [
       "            col           var\n",
       "240   f1c272f04  1.379889e+15\n",
       "1812  b77c707ef  1.343034e+15\n",
       "2198  1029d9146  1.205822e+15\n",
       "2004  ff3b49c1d  1.187637e+15\n",
       "1755  56cb93fd8  1.185721e+15\n",
       "1208  4c835bd02  1.181086e+15\n",
       "420   c059f2574  1.177803e+15\n",
       "542   33e4f9a0e  1.176518e+15\n",
       "1274  6488c8200  5.638306e+14\n",
       "2637  453128993  5.542936e+14"
      ]
     },
     "execution_count": 205,
     "metadata": {},
     "output_type": "execute_result"
    }
   ],
   "source": [
    "varis.iloc[:10,:]"
   ]
  },
  {
   "cell_type": "code",
   "execution_count": 186,
   "metadata": {},
   "outputs": [
    {
     "data": {
      "text/html": [
       "<div>\n",
       "<table border=\"1\" class=\"dataframe\">\n",
       "  <thead>\n",
       "    <tr style=\"text-align: right;\">\n",
       "      <th></th>\n",
       "      <th>col</th>\n",
       "      <th>var</th>\n",
       "    </tr>\n",
       "  </thead>\n",
       "  <tbody>\n",
       "    <tr>\n",
       "      <th>240</th>\n",
       "      <td>f1c272f04</td>\n",
       "      <td>1.379889e+15</td>\n",
       "    </tr>\n",
       "    <tr>\n",
       "      <th>1812</th>\n",
       "      <td>b77c707ef</td>\n",
       "      <td>1.343034e+15</td>\n",
       "    </tr>\n",
       "    <tr>\n",
       "      <th>2198</th>\n",
       "      <td>1029d9146</td>\n",
       "      <td>1.205822e+15</td>\n",
       "    </tr>\n",
       "    <tr>\n",
       "      <th>2004</th>\n",
       "      <td>ff3b49c1d</td>\n",
       "      <td>1.187637e+15</td>\n",
       "    </tr>\n",
       "    <tr>\n",
       "      <th>1755</th>\n",
       "      <td>56cb93fd8</td>\n",
       "      <td>1.185721e+15</td>\n",
       "    </tr>\n",
       "    <tr>\n",
       "      <th>1208</th>\n",
       "      <td>4c835bd02</td>\n",
       "      <td>1.181086e+15</td>\n",
       "    </tr>\n",
       "    <tr>\n",
       "      <th>420</th>\n",
       "      <td>c059f2574</td>\n",
       "      <td>1.177803e+15</td>\n",
       "    </tr>\n",
       "    <tr>\n",
       "      <th>542</th>\n",
       "      <td>33e4f9a0e</td>\n",
       "      <td>1.176518e+15</td>\n",
       "    </tr>\n",
       "    <tr>\n",
       "      <th>1274</th>\n",
       "      <td>6488c8200</td>\n",
       "      <td>5.638306e+14</td>\n",
       "    </tr>\n",
       "    <tr>\n",
       "      <th>2637</th>\n",
       "      <td>453128993</td>\n",
       "      <td>5.542936e+14</td>\n",
       "    </tr>\n",
       "    <tr>\n",
       "      <th>548</th>\n",
       "      <td>580f5ff06</td>\n",
       "      <td>5.445553e+14</td>\n",
       "    </tr>\n",
       "    <tr>\n",
       "      <th>2962</th>\n",
       "      <td>692c44993</td>\n",
       "      <td>5.395513e+14</td>\n",
       "    </tr>\n",
       "    <tr>\n",
       "      <th>3083</th>\n",
       "      <td>a3382e205</td>\n",
       "      <td>5.088334e+14</td>\n",
       "    </tr>\n",
       "    <tr>\n",
       "      <th>2895</th>\n",
       "      <td>d4cc42c3d</td>\n",
       "      <td>5.070408e+14</td>\n",
       "    </tr>\n",
       "    <tr>\n",
       "      <th>1623</th>\n",
       "      <td>1351bf96e</td>\n",
       "      <td>5.015646e+14</td>\n",
       "    </tr>\n",
       "    <tr>\n",
       "      <th>1432</th>\n",
       "      <td>1eec37deb</td>\n",
       "      <td>4.970319e+14</td>\n",
       "    </tr>\n",
       "    <tr>\n",
       "      <th>2227</th>\n",
       "      <td>bf042d928</td>\n",
       "      <td>4.931810e+14</td>\n",
       "    </tr>\n",
       "    <tr>\n",
       "      <th>1724</th>\n",
       "      <td>2599a7eb7</td>\n",
       "      <td>4.848430e+14</td>\n",
       "    </tr>\n",
       "    <tr>\n",
       "      <th>2428</th>\n",
       "      <td>547d3135b</td>\n",
       "      <td>4.767445e+14</td>\n",
       "    </tr>\n",
       "    <tr>\n",
       "      <th>1331</th>\n",
       "      <td>b7d59d3b5</td>\n",
       "      <td>4.732126e+14</td>\n",
       "    </tr>\n",
       "    <tr>\n",
       "      <th>271</th>\n",
       "      <td>aa31dd768</td>\n",
       "      <td>4.697076e+14</td>\n",
       "    </tr>\n",
       "    <tr>\n",
       "      <th>2430</th>\n",
       "      <td>39b3c553a</td>\n",
       "      <td>4.642171e+14</td>\n",
       "    </tr>\n",
       "    <tr>\n",
       "      <th>1670</th>\n",
       "      <td>22c7b00ef</td>\n",
       "      <td>4.576752e+14</td>\n",
       "    </tr>\n",
       "    <tr>\n",
       "      <th>1109</th>\n",
       "      <td>d428161d9</td>\n",
       "      <td>4.560284e+14</td>\n",
       "    </tr>\n",
       "    <tr>\n",
       "      <th>2702</th>\n",
       "      <td>435f27009</td>\n",
       "      <td>4.527391e+14</td>\n",
       "    </tr>\n",
       "    <tr>\n",
       "      <th>197</th>\n",
       "      <td>de14e7687</td>\n",
       "      <td>4.423782e+14</td>\n",
       "    </tr>\n",
       "    <tr>\n",
       "      <th>2546</th>\n",
       "      <td>2fc60d4d9</td>\n",
       "      <td>4.364890e+14</td>\n",
       "    </tr>\n",
       "    <tr>\n",
       "      <th>1238</th>\n",
       "      <td>2cff4bf0c</td>\n",
       "      <td>4.069876e+14</td>\n",
       "    </tr>\n",
       "    <tr>\n",
       "      <th>586</th>\n",
       "      <td>4b6dfc880</td>\n",
       "      <td>4.009217e+14</td>\n",
       "    </tr>\n",
       "    <tr>\n",
       "      <th>1772</th>\n",
       "      <td>266525925</td>\n",
       "      <td>3.817224e+14</td>\n",
       "    </tr>\n",
       "    <tr>\n",
       "      <th>...</th>\n",
       "      <td>...</td>\n",
       "      <td>...</td>\n",
       "    </tr>\n",
       "    <tr>\n",
       "      <th>788</th>\n",
       "      <td>5ea313a8c</td>\n",
       "      <td>0.000000e+00</td>\n",
       "    </tr>\n",
       "    <tr>\n",
       "      <th>2921</th>\n",
       "      <td>e4b2caa9f</td>\n",
       "      <td>0.000000e+00</td>\n",
       "    </tr>\n",
       "    <tr>\n",
       "      <th>471</th>\n",
       "      <td>0b346adbd</td>\n",
       "      <td>0.000000e+00</td>\n",
       "    </tr>\n",
       "    <tr>\n",
       "      <th>773</th>\n",
       "      <td>87eb21c50</td>\n",
       "      <td>0.000000e+00</td>\n",
       "    </tr>\n",
       "    <tr>\n",
       "      <th>803</th>\n",
       "      <td>0987a65a1</td>\n",
       "      <td>0.000000e+00</td>\n",
       "    </tr>\n",
       "    <tr>\n",
       "      <th>2914</th>\n",
       "      <td>f684b0a96</td>\n",
       "      <td>0.000000e+00</td>\n",
       "    </tr>\n",
       "    <tr>\n",
       "      <th>2359</th>\n",
       "      <td>943743753</td>\n",
       "      <td>0.000000e+00</td>\n",
       "    </tr>\n",
       "    <tr>\n",
       "      <th>1862</th>\n",
       "      <td>e0907e883</td>\n",
       "      <td>0.000000e+00</td>\n",
       "    </tr>\n",
       "    <tr>\n",
       "      <th>2677</th>\n",
       "      <td>2cc0fbc52</td>\n",
       "      <td>0.000000e+00</td>\n",
       "    </tr>\n",
       "    <tr>\n",
       "      <th>2358</th>\n",
       "      <td>4a64e56e7</td>\n",
       "      <td>0.000000e+00</td>\n",
       "    </tr>\n",
       "    <tr>\n",
       "      <th>1873</th>\n",
       "      <td>c586d79a1</td>\n",
       "      <td>0.000000e+00</td>\n",
       "    </tr>\n",
       "    <tr>\n",
       "      <th>1827</th>\n",
       "      <td>9fc79985d</td>\n",
       "      <td>0.000000e+00</td>\n",
       "    </tr>\n",
       "    <tr>\n",
       "      <th>2402</th>\n",
       "      <td>20854f8bf</td>\n",
       "      <td>0.000000e+00</td>\n",
       "    </tr>\n",
       "    <tr>\n",
       "      <th>1762</th>\n",
       "      <td>bba8ce4bb</td>\n",
       "      <td>0.000000e+00</td>\n",
       "    </tr>\n",
       "    <tr>\n",
       "      <th>451</th>\n",
       "      <td>754c502dd</td>\n",
       "      <td>0.000000e+00</td>\n",
       "    </tr>\n",
       "    <tr>\n",
       "      <th>824</th>\n",
       "      <td>2b21cd7d8</td>\n",
       "      <td>0.000000e+00</td>\n",
       "    </tr>\n",
       "    <tr>\n",
       "      <th>1770</th>\n",
       "      <td>ff6f62aa4</td>\n",
       "      <td>0.000000e+00</td>\n",
       "    </tr>\n",
       "    <tr>\n",
       "      <th>2419</th>\n",
       "      <td>5ee7de0be</td>\n",
       "      <td>0.000000e+00</td>\n",
       "    </tr>\n",
       "    <tr>\n",
       "      <th>2412</th>\n",
       "      <td>ac2e428a9</td>\n",
       "      <td>0.000000e+00</td>\n",
       "    </tr>\n",
       "    <tr>\n",
       "      <th>1776</th>\n",
       "      <td>b06fe66ba</td>\n",
       "      <td>0.000000e+00</td>\n",
       "    </tr>\n",
       "    <tr>\n",
       "      <th>2948</th>\n",
       "      <td>2c2d9f267</td>\n",
       "      <td>0.000000e+00</td>\n",
       "    </tr>\n",
       "    <tr>\n",
       "      <th>1780</th>\n",
       "      <td>ae87ebc42</td>\n",
       "      <td>0.000000e+00</td>\n",
       "    </tr>\n",
       "    <tr>\n",
       "      <th>1811</th>\n",
       "      <td>a531a4bf0</td>\n",
       "      <td>0.000000e+00</td>\n",
       "    </tr>\n",
       "    <tr>\n",
       "      <th>2755</th>\n",
       "      <td>a80633823</td>\n",
       "      <td>0.000000e+00</td>\n",
       "    </tr>\n",
       "    <tr>\n",
       "      <th>1786</th>\n",
       "      <td>f26589e57</td>\n",
       "      <td>0.000000e+00</td>\n",
       "    </tr>\n",
       "    <tr>\n",
       "      <th>1793</th>\n",
       "      <td>963bb53b1</td>\n",
       "      <td>0.000000e+00</td>\n",
       "    </tr>\n",
       "    <tr>\n",
       "      <th>812</th>\n",
       "      <td>1ae50d4c3</td>\n",
       "      <td>0.000000e+00</td>\n",
       "    </tr>\n",
       "    <tr>\n",
       "      <th>811</th>\n",
       "      <td>f5dde409b</td>\n",
       "      <td>0.000000e+00</td>\n",
       "    </tr>\n",
       "    <tr>\n",
       "      <th>807</th>\n",
       "      <td>2fb7c2443</td>\n",
       "      <td>0.000000e+00</td>\n",
       "    </tr>\n",
       "    <tr>\n",
       "      <th>312</th>\n",
       "      <td>f6fac27c8</td>\n",
       "      <td>0.000000e+00</td>\n",
       "    </tr>\n",
       "  </tbody>\n",
       "</table>\n",
       "<p>3147 rows × 2 columns</p>\n",
       "</div>"
      ],
      "text/plain": [
       "            col           var\n",
       "240   f1c272f04  1.379889e+15\n",
       "1812  b77c707ef  1.343034e+15\n",
       "2198  1029d9146  1.205822e+15\n",
       "2004  ff3b49c1d  1.187637e+15\n",
       "1755  56cb93fd8  1.185721e+15\n",
       "1208  4c835bd02  1.181086e+15\n",
       "420   c059f2574  1.177803e+15\n",
       "542   33e4f9a0e  1.176518e+15\n",
       "1274  6488c8200  5.638306e+14\n",
       "2637  453128993  5.542936e+14\n",
       "548   580f5ff06  5.445553e+14\n",
       "2962  692c44993  5.395513e+14\n",
       "3083  a3382e205  5.088334e+14\n",
       "2895  d4cc42c3d  5.070408e+14\n",
       "1623  1351bf96e  5.015646e+14\n",
       "1432  1eec37deb  4.970319e+14\n",
       "2227  bf042d928  4.931810e+14\n",
       "1724  2599a7eb7  4.848430e+14\n",
       "2428  547d3135b  4.767445e+14\n",
       "1331  b7d59d3b5  4.732126e+14\n",
       "271   aa31dd768  4.697076e+14\n",
       "2430  39b3c553a  4.642171e+14\n",
       "1670  22c7b00ef  4.576752e+14\n",
       "1109  d428161d9  4.560284e+14\n",
       "2702  435f27009  4.527391e+14\n",
       "197   de14e7687  4.423782e+14\n",
       "2546  2fc60d4d9  4.364890e+14\n",
       "1238  2cff4bf0c  4.069876e+14\n",
       "586   4b6dfc880  4.009217e+14\n",
       "1772  266525925  3.817224e+14\n",
       "...         ...           ...\n",
       "788   5ea313a8c  0.000000e+00\n",
       "2921  e4b2caa9f  0.000000e+00\n",
       "471   0b346adbd  0.000000e+00\n",
       "773   87eb21c50  0.000000e+00\n",
       "803   0987a65a1  0.000000e+00\n",
       "2914  f684b0a96  0.000000e+00\n",
       "2359  943743753  0.000000e+00\n",
       "1862  e0907e883  0.000000e+00\n",
       "2677  2cc0fbc52  0.000000e+00\n",
       "2358  4a64e56e7  0.000000e+00\n",
       "1873  c586d79a1  0.000000e+00\n",
       "1827  9fc79985d  0.000000e+00\n",
       "2402  20854f8bf  0.000000e+00\n",
       "1762  bba8ce4bb  0.000000e+00\n",
       "451   754c502dd  0.000000e+00\n",
       "824   2b21cd7d8  0.000000e+00\n",
       "1770  ff6f62aa4  0.000000e+00\n",
       "2419  5ee7de0be  0.000000e+00\n",
       "2412  ac2e428a9  0.000000e+00\n",
       "1776  b06fe66ba  0.000000e+00\n",
       "2948  2c2d9f267  0.000000e+00\n",
       "1780  ae87ebc42  0.000000e+00\n",
       "1811  a531a4bf0  0.000000e+00\n",
       "2755  a80633823  0.000000e+00\n",
       "1786  f26589e57  0.000000e+00\n",
       "1793  963bb53b1  0.000000e+00\n",
       "812   1ae50d4c3  0.000000e+00\n",
       "811   f5dde409b  0.000000e+00\n",
       "807   2fb7c2443  0.000000e+00\n",
       "312   f6fac27c8  0.000000e+00\n",
       "\n",
       "[3147 rows x 2 columns]"
      ]
     },
     "execution_count": 186,
     "metadata": {},
     "output_type": "execute_result"
    }
   ],
   "source": [
    "varis"
   ]
  },
  {
   "cell_type": "code",
   "execution_count": null,
   "metadata": {
    "collapsed": true
   },
   "outputs": [],
   "source": []
  }
 ],
 "metadata": {
  "kernelspec": {
   "display_name": "Python 3",
   "language": "python",
   "name": "python3"
  },
  "language_info": {
   "codemirror_mode": {
    "name": "ipython",
    "version": 3
   },
   "file_extension": ".py",
   "mimetype": "text/x-python",
   "name": "python",
   "nbconvert_exporter": "python",
   "pygments_lexer": "ipython3",
   "version": "3.6.5"
  }
 },
 "nbformat": 4,
 "nbformat_minor": 2
}
