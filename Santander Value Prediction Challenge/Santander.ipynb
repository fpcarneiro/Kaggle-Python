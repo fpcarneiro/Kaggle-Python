{
 "cells": [
  {
   "cell_type": "code",
   "execution_count": 2,
   "metadata": {},
   "outputs": [],
   "source": [
    "import preprocessing as pp\n",
    "\n",
    "import numpy as np\n",
    "\n",
    "from sklearn.preprocessing import RobustScaler, FunctionTransformer\n",
    "from sklearn.feature_selection import VarianceThreshold, SelectKBest, f_regression\n",
    "from sklearn.feature_selection import SelectPercentile, SelectFromModel, mutual_info_regression\n",
    "from sklearn.ensemble import RandomForestRegressor, ExtraTreesRegressor\n",
    "from sklearn.linear_model import BayesianRidge\n",
    "from sklearn.pipeline import FeatureUnion, Pipeline\n",
    "\n",
    "import lightgbm as lgb\n",
    "\n",
    "from xgboost import XGBRegressor"
   ]
  },
  {
   "cell_type": "code",
   "execution_count": 3,
   "metadata": {},
   "outputs": [],
   "source": [
    "train, test = pp.read_train_test(train_file = 'train.csv', test_file = 'test.csv')"
   ]
  },
  {
   "cell_type": "code",
   "execution_count": 4,
   "metadata": {},
   "outputs": [],
   "source": [
    "ids = list(test.ID)"
   ]
  },
  {
   "cell_type": "code",
   "execution_count": 5,
   "metadata": {},
   "outputs": [],
   "source": [
    "train_X = train.drop(['ID','target'], axis=1)\n",
    "train_y = (np.log1p(train.target)).values\n",
    "\n",
    "test_X = test.drop(['ID'], axis=1)"
   ]
  },
  {
   "cell_type": "code",
   "execution_count": 6,
   "metadata": {},
   "outputs": [],
   "source": [
    "scaler = RobustScaler()"
   ]
  },
  {
   "cell_type": "code",
   "execution_count": 7,
   "metadata": {},
   "outputs": [],
   "source": [
    "threshold = .98 * (1 - .98)\n",
    "variance = VarianceThreshold(threshold)"
   ]
  },
  {
   "cell_type": "code",
   "execution_count": 8,
   "metadata": {},
   "outputs": [],
   "source": [
    "anova_filter = SelectKBest(f_regression, k=4000)"
   ]
  },
  {
   "cell_type": "code",
   "execution_count": 9,
   "metadata": {},
   "outputs": [],
   "source": [
    "model_rforest = RandomForestRegressor(n_estimators = 50, \n",
    "                                      max_features = 0.7,\n",
    "                                      random_state=2018,\n",
    "                                      max_depth=20,\n",
    "                                      min_samples_leaf = 4,\n",
    "                                      min_samples_split = 10)"
   ]
  },
  {
   "cell_type": "code",
   "execution_count": 10,
   "metadata": {},
   "outputs": [],
   "source": [
    "model_lgb = lgb.LGBMRegressor(objective='regression',\n",
    "                              metric=\"rmse\",\n",
    "                              n_estimators = 500,\n",
    "                              num_leaves = 30,\n",
    "                              learning_rate = 0.01,\n",
    "                              bagging_fraction = 0.7,\n",
    "                              feature_fraction = 0.7,\n",
    "                              bagging_frequency = 5,\n",
    "                              bagging_seed = 2018,\n",
    "                              verbosity = -1)"
   ]
  },
  {
   "cell_type": "code",
   "execution_count": 11,
   "metadata": {},
   "outputs": [],
   "source": [
    "model_xgb = XGBRegressor(n_estimators = 100, \n",
    "                         colsample_bytree = 0.7,\n",
    "                         colsample_bylevel = 0.7,\n",
    "                         learning_rate=0.1)"
   ]
  },
  {
   "cell_type": "code",
   "execution_count": 12,
   "metadata": {},
   "outputs": [],
   "source": [
    "model_byr = BayesianRidge()\n",
    "\n",
    "percentile = SelectPercentile(mutual_info_regression, percentile=85)\n",
    "\n",
    "from_model = SelectFromModel(ExtraTreesRegressor(n_estimators=200, max_depth=20, max_features=0.5, n_jobs=-1, random_state=0))"
   ]
  },
  {
   "cell_type": "code",
   "execution_count": 13,
   "metadata": {},
   "outputs": [],
   "source": [
    "log_transformer = FunctionTransformer(np.log1p)"
   ]
  },
  {
   "cell_type": "code",
   "execution_count": 14,
   "metadata": {},
   "outputs": [],
   "source": [
    "feature_selection = []\n",
    "feature_selection.append(('percentile', percentile))\n",
    "feature_selection.append(('from_model', from_model))\n",
    "feature_selection_union = FeatureUnion(feature_selection)"
   ]
  },
  {
   "cell_type": "code",
   "execution_count": 22,
   "metadata": {},
   "outputs": [],
   "source": [
    "estimators = []\n",
    "estimators.append(('low_variance', variance))\n",
    "#estimators.append(('scaler', scaler))\n",
    "#estimators.append(('anova', anova_filter))\n",
    "#estimators.append(('log_transform', log_transformer))\n",
    "#estimators.append(('percentile', percentile))\n",
    "estimators.append(('from_model', from_model))\n",
    "#estimators.append(('feature_selection', feature_selection_union))"
   ]
  },
  {
   "cell_type": "code",
   "execution_count": 23,
   "metadata": {},
   "outputs": [
    {
     "data": {
      "text/plain": [
       "Pipeline(memory=None,\n",
       "     steps=[('low_variance', VarianceThreshold(threshold=0.019600000000000017)), ('from_model', SelectFromModel(estimator=ExtraTreesRegressor(bootstrap=False, criterion='mse', max_depth=20,\n",
       "          max_features=0.5, max_leaf_nodes=None, min_impurity_decrease=0.0,\n",
       "          min_impurity_split=None, min_... random_state=0, verbose=0, warm_start=False),\n",
       "        norm_order=1, prefit=False, threshold=None))])"
      ]
     },
     "execution_count": 23,
     "metadata": {},
     "output_type": "execute_result"
    }
   ],
   "source": [
    "pipe = Pipeline(estimators)\n",
    "pipe.fit(train_X, train_y)"
   ]
  },
  {
   "cell_type": "code",
   "execution_count": 24,
   "metadata": {},
   "outputs": [],
   "source": [
    "train_X_reduced = pipe.transform(train_X)\n",
    "test_X_reduced = pipe.transform(test_X)"
   ]
  },
  {
   "cell_type": "code",
   "execution_count": 25,
   "metadata": {},
   "outputs": [
    {
     "name": "stdout",
     "output_type": "stream",
     "text": [
      "(4459, 1000)\n",
      "(49342, 1000)\n"
     ]
    }
   ],
   "source": [
    "print(train_X_reduced.shape)\n",
    "print(test_X_reduced.shape)"
   ]
  },
  {
   "cell_type": "code",
   "execution_count": 26,
   "metadata": {},
   "outputs": [],
   "source": [
    "tree_models = []\n",
    "tree_models.append((\"lgb\", model_lgb))\n",
    "#tree_models.append((\"rf\", model_rforest))\n",
    "#tree_models.append((\"xgb\", model_xgb))\n",
    "#tree_models.append((\"byr\", model_byr))"
   ]
  },
  {
   "cell_type": "code",
   "execution_count": null,
   "metadata": {},
   "outputs": [],
   "source": [
    "cross_val_table = pp.get_validation_scores(tree_models, train_X_reduced, train_y, 5)\n",
    "print(cross_val_table)"
   ]
  },
  {
   "cell_type": "code",
   "execution_count": 21,
   "metadata": {},
   "outputs": [],
   "source": [
    "pp.make_submission(model_lgb, train_X_reduced, train_y, test_X_reduced, ids, filename = 'submission.csv')"
   ]
  }
 ],
 "metadata": {
  "kernelspec": {
   "display_name": "Python 3",
   "language": "python",
   "name": "python3"
  },
  "language_info": {
   "codemirror_mode": {
    "name": "ipython",
    "version": 3
   },
   "file_extension": ".py",
   "mimetype": "text/x-python",
   "name": "python",
   "nbconvert_exporter": "python",
   "pygments_lexer": "ipython3",
   "version": "3.6.5"
  }
 },
 "nbformat": 4,
 "nbformat_minor": 2
}
